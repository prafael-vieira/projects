{
 "cells": [
  {
   "cell_type": "code",
   "execution_count": null,
   "metadata": {},
   "outputs": [],
   "source": [
    "# Importação de pacostes\n",
    "import tweepy"
   ]
  },
  {
   "cell_type": "code",
   "execution_count": null,
   "metadata": {},
   "outputs": [],
   "source": [
    "# Credenciais necessárias para utilização do API\n",
    "\n",
    "consumer_key = \"\"\n",
    "consumer_secret = \"\"\n",
    "access_token = \"\"\n",
    "acess_token_secret = \"\""
   ]
  },
  {
   "cell_type": "code",
   "execution_count": null,
   "metadata": {},
   "outputs": [],
   "source": [
    "# Fazendo autenticação nas APIs usando os parâmetros\n",
    "\n",
    "auth = tweepy.OAuthHandler(consumer_key, consumer_secret)\n",
    "auth.set_access_token(access_token, acess_token_secret)\n",
    "token = tweepy.API(auth)"
   ]
  },
  {
   "cell_type": "code",
   "execution_count": null,
   "metadata": {},
   "outputs": [],
   "source": [
    "# Realizar a busca pela palavra chave\n",
    "\n",
    "# Definir qual palavra deseja pesquisar no twitter\n",
    "# Key_word  = 'Bolsonaro'\n",
    "keyword = ('São Paulo OR SP OR Doria OR Eleição de São Paulo')"
   ]
  },
  {
   "cell_type": "code",
   "execution_count": null,
   "metadata": {},
   "outputs": [],
   "source": [
    "# Fazera busca por palavra chaves\n",
    "\n",
    "# result_type --> mixed(default), recent, popular\n",
    "# tweets --> variável que irá armazenar todos os tweets com a palavra escolhida na função API\n",
    "\n",
    "tweets = token.search(q=keyword, count=10, result_type= 'mixed', lang = 'pt') # Com 'lang' podemos definir a linguagem que será extraída, caso não seja defindo será randômico.\n",
    "\n",
    "# tweets = token.search(q=keyword, count=10, result_type= 'mixed', tweet_mode = 'extended',)"
   ]
  },
  {
   "cell_type": "code",
   "execution_count": null,
   "metadata": {},
   "outputs": [],
   "source": [
    "# Para verificar a quantidade de tweets coletado use a função \"len()\"\n",
    "\n",
    "print(f\"O total de tweets coletados foi:{len(tweets)}\")"
   ]
  },
  {
   "cell_type": "code",
   "execution_count": null,
   "metadata": {},
   "outputs": [],
   "source": [
    "# Podemos imprimir o nome do usuário (screen_name) e o texto do tweet\n",
    "\n",
    "for tweet in tweets:\n",
    "    print(f\"Usuário: {tweet.user.screen_name}\")\n",
    "    print(f\"Tweet: {tweet.text}\")\n",
    "# usar tweet.full_text no caso de busca não truncada"
   ]
  },
  {
   "cell_type": "markdown",
   "metadata": {},
   "source": [
    "# Análise de polaridade"
   ]
  },
  {
   "cell_type": "code",
   "execution_count": null,
   "metadata": {},
   "outputs": [],
   "source": [
    "# Para analisar polaridade usaremos a função sentiment.polarity que rankeia a frase entre -1 e 1, onde quanto mais perto de 1 masi positivo é o sentimento.\n"
   ]
  },
  {
   "cell_type": "code",
   "execution_count": null,
   "metadata": {},
   "outputs": [],
   "source": [
    "# Importando pacotes\n",
    "from textblob import TextBlob as tb\n",
    "import numpy as np"
   ]
  },
  {
   "cell_type": "code",
   "execution_count": null,
   "metadata": {},
   "outputs": [],
   "source": [
    "# Variável que irá armazenar as polaridades\n",
    "analysis = None"
   ]
  },
  {
   "cell_type": "code",
   "execution_count": null,
   "metadata": {},
   "outputs": [],
   "source": [
    "# Lista vazia para armazenar scores\n",
    "tweets_score = []"
   ]
  },
  {
   "cell_type": "code",
   "execution_count": null,
   "metadata": {},
   "outputs": [],
   "source": [
    "for tweet in tweets:\n",
    "    print('**', tweet.text)\n",
    "    analysis = tb(tweet.text)\n",
    "    polarity = analysis.sentiment.polarity\n",
    "    tweets_score.append(polarity)"
   ]
  },
  {
   "cell_type": "code",
   "execution_count": null,
   "metadata": {},
   "outputs": [],
   "source": [
    "print(f\"Vetor de polaridade: {tweets_score}\")"
   ]
  },
  {
   "cell_type": "code",
   "execution_count": null,
   "metadata": {},
   "outputs": [],
   "source": [
    "print(f\"Média de sentimento: {str(np.mean(tweets_score))}\")"
   ]
  },
  {
   "cell_type": "markdown",
   "metadata": {},
   "source": [
    "# Traduzindo os tweets que não estão em inglês"
   ]
  },
  {
   "cell_type": "code",
   "execution_count": null,
   "metadata": {},
   "outputs": [],
   "source": [
    "polarities = []\n",
    "\n",
    "for tweet in tweets:\n",
    "    analysis = tb(tweet.text)  #tweet.full_text para modo extendido\n",
    "    \n",
    "    if analysis.detect_language() != 'en': # Verifica se tweet está em inglês, se não estiver, vai traduzir\n",
    "        \n",
    "        traducao = tb(str(analysis.translate(to='en')))\n",
    "        \n",
    "        print(f\"Texto traduzido: {traducao}\")\n",
    "        \n",
    "        polarity = traducao.sentiment.polarity\n",
    "    else:\n",
    "        polarity = analysis.sentiment.polarity\n",
    "    \n",
    "    polarities.append(polarity)"
   ]
  },
  {
   "cell_type": "code",
   "execution_count": null,
   "metadata": {},
   "outputs": [],
   "source": [
    "print(f\"Vetor de polaridade: {polarities}\")"
   ]
  },
  {
   "cell_type": "code",
   "execution_count": null,
   "metadata": {},
   "outputs": [],
   "source": [
    "print(f\"Média de sentimento: {str(np.mean(polarities))}\")"
   ]
  },
  {
   "cell_type": "markdown",
   "metadata": {},
   "source": [
    "# Armazenando em arquivos"
   ]
  },
  {
   "cell_type": "code",
   "execution_count": null,
   "metadata": {},
   "outputs": [],
   "source": [
    "#importando o pacote json\n",
    "\n",
    "import json"
   ]
  },
  {
   "cell_type": "code",
   "execution_count": null,
   "metadata": {},
   "outputs": [],
   "source": [
    "datasetPath = 'D:\\\\Bootcamp\\\\New folder'\n",
    "\n",
    "with open(datasetPath+'\\\\tweets_keyword.jason', 'a', encoding='utf8') as filename:   #aberto em mode de append\n",
    "    \n",
    "    for tweet in tweets:\n",
    "        \n",
    "        status = tweet\n",
    "        \n",
    "        #Converte pra string\n",
    "        json_str = json.dumps(status._json)\n",
    "        \n",
    "        #deserializa a string para um objeto pyhton\n",
    "        parsed = json.loads(json_str)\n",
    "        \n",
    "        #grava o tweet deserializado no arquivo\n",
    "        json.dump(parsed, filename, ensure_ascii=False, sort_keys=True, indent=4, separators=(',',':'))"
   ]
  },
  {
   "cell_type": "code",
   "execution_count": null,
   "metadata": {},
   "outputs": [],
   "source": []
  }
 ],
 "metadata": {
  "kernelspec": {
   "display_name": "Python 3",
   "language": "python",
   "name": "python3"
  },
  "language_info": {
   "codemirror_mode": {
    "name": "ipython",
    "version": 3
   },
   "file_extension": ".py",
   "mimetype": "text/x-python",
   "name": "python",
   "nbconvert_exporter": "python",
   "pygments_lexer": "ipython3",
   "version": "3.8.3"
  }
 },
 "nbformat": 4,
 "nbformat_minor": 4
}
